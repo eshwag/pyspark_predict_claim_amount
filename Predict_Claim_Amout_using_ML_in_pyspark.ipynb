{
 "cells": [
  {
   "cell_type": "markdown",
   "metadata": {},
   "source": [
    "## Objective is to predict the Claim_Amount using the machine learning model in pyspark."
   ]
  },
  {
   "cell_type": "markdown",
   "metadata": {},
   "source": [
    "### Update Path with SPARK_HOME and PYLIB environment variables"
   ]
  },
  {
   "cell_type": "code",
   "execution_count": 1,
   "metadata": {
    "collapsed": true
   },
   "outputs": [],
   "source": [
    "import os\n",
    "import sys\n",
    "os.environ[\"SPARK_HOME\"] = \"/usr/hdp/current/spark2-client\"\n",
    "os.environ[\"PYLIB\"] = os.environ[\"SPARK_HOME\"] + \"/python/lib\"\n",
    "sys.path.insert(0, os.environ[\"PYLIB\"] + \"/py4j-0.10.4-src.zip\")\n",
    "sys.path.insert(0, os.environ[\"PYLIB\"] + \"/pyspark.zip\")"
   ]
  },
  {
   "cell_type": "markdown",
   "metadata": {},
   "source": [
    "### Initialize Spark"
   ]
  },
  {
   "cell_type": "code",
   "execution_count": 2,
   "metadata": {
    "collapsed": true
   },
   "outputs": [],
   "source": [
    "from pyspark.conf import SparkConf\n",
    "from pyspark import SparkContext\n",
    "from pyspark.sql import SparkSession\n",
    "\n",
    "conf = SparkConf().setAppName(\"Application Name\").setMaster(\"local\")\n",
    "sc = SparkContext(conf=conf)\n",
    "spark = SparkSession(sc)"
   ]
  },
  {
   "cell_type": "markdown",
   "metadata": {},
   "source": [
    "### Load all dependent libararies here"
   ]
  },
  {
   "cell_type": "code",
   "execution_count": 3,
   "metadata": {
    "collapsed": true
   },
   "outputs": [],
   "source": [
    "from pyspark.sql.types import *\n",
    "from pyspark.sql.functions import *\n",
    "from pyspark.ml.feature import *\n",
    "from pyspark.ml import Pipeline\n",
    "from pyspark.ml import regression\n",
    "from pyspark.ml.evaluation import RegressionEvaluator\n",
    "from pyspark.ml.tuning import ParamGridBuilder, CrossValidator\n",
    "import pandas as pd"
   ]
  },
  {
   "cell_type": "markdown",
   "metadata": {},
   "source": [
    "## Read & Understand the Data"
   ]
  },
  {
   "cell_type": "markdown",
   "metadata": {},
   "source": [
    "### Defining Schema to given data"
   ]
  },
  {
   "cell_type": "markdown",
   "metadata": {},
   "source": [
    "### Create a dataframe for given data"
   ]
  },
  {
   "cell_type": "code",
   "execution_count": 4,
   "metadata": {
    "collapsed": true
   },
   "outputs": [],
   "source": [
    "inputData = spark.read.format(\"csv\")\\\n",
    "            .option(\"header\", \"true\")\\\n",
    "            .option(\"inferSchema\", \"true\")\\\n",
    "            .option(\"ignoreTrailingWhiteSpace\", \"true\")\\\n",
    "            .option(\"ignoreLeadingWhiteSpace\", \"true\")\\\n",
    "            .option(\"quote\", '\"')\\\n",
    "            .load(\"file:///home/1843B39/CUTe_7322c/sample_set.csv\")\n"
   ]
  },
  {
   "cell_type": "code",
   "execution_count": 5,
   "metadata": {},
   "outputs": [
    {
     "name": "stdout",
     "output_type": "stream",
     "text": [
      "root\n",
      " |-- Row_ID: integer (nullable = true)\n",
      " |-- Household_ID: integer (nullable = true)\n",
      " |-- Vehicle: integer (nullable = true)\n",
      " |-- Calendar_Year: integer (nullable = true)\n",
      " |-- Model_Year: integer (nullable = true)\n",
      " |-- Blind_Make: string (nullable = true)\n",
      " |-- Blind_Model: string (nullable = true)\n",
      " |-- Blind_Submodel: string (nullable = true)\n",
      " |-- Cat1: string (nullable = true)\n",
      " |-- Cat2: string (nullable = true)\n",
      " |-- Cat3: string (nullable = true)\n",
      " |-- Cat4: string (nullable = true)\n",
      " |-- Cat5: string (nullable = true)\n",
      " |-- Cat6: string (nullable = true)\n",
      " |-- Cat7: string (nullable = true)\n",
      " |-- Cat8: string (nullable = true)\n",
      " |-- Cat9: string (nullable = true)\n",
      " |-- Cat10: string (nullable = true)\n",
      " |-- Cat11: string (nullable = true)\n",
      " |-- Cat12: string (nullable = true)\n",
      " |-- OrdCat: string (nullable = true)\n",
      " |-- Var1: double (nullable = true)\n",
      " |-- Var2: double (nullable = true)\n",
      " |-- Var3: double (nullable = true)\n",
      " |-- Var4: double (nullable = true)\n",
      " |-- Var5: double (nullable = true)\n",
      " |-- Var6: double (nullable = true)\n",
      " |-- Var7: double (nullable = true)\n",
      " |-- Var8: double (nullable = true)\n",
      " |-- NVCat: string (nullable = true)\n",
      " |-- NVVar1: double (nullable = true)\n",
      " |-- NVVar2: double (nullable = true)\n",
      " |-- NVVar3: double (nullable = true)\n",
      " |-- NVVar4: double (nullable = true)\n",
      " |-- Claim_Amount: double (nullable = true)\n",
      "\n"
     ]
    }
   ],
   "source": [
    "inputData.printSchema()"
   ]
  },
  {
   "cell_type": "markdown",
   "metadata": {},
   "source": [
    "### Verify summary of the dataframe (how many rows and columns)"
   ]
  },
  {
   "cell_type": "code",
   "execution_count": 6,
   "metadata": {},
   "outputs": [
    {
     "data": {
      "text/html": [
       "<div>\n",
       "<style>\n",
       "    .dataframe thead tr:only-child th {\n",
       "        text-align: right;\n",
       "    }\n",
       "\n",
       "    .dataframe thead th {\n",
       "        text-align: left;\n",
       "    }\n",
       "\n",
       "    .dataframe tbody tr th {\n",
       "        vertical-align: top;\n",
       "    }\n",
       "</style>\n",
       "<table border=\"1\" class=\"dataframe\">\n",
       "  <thead>\n",
       "    <tr style=\"text-align: right;\">\n",
       "      <th></th>\n",
       "      <th>count</th>\n",
       "      <th>unique</th>\n",
       "      <th>top</th>\n",
       "      <th>freq</th>\n",
       "      <th>mean</th>\n",
       "      <th>std</th>\n",
       "      <th>min</th>\n",
       "      <th>25%</th>\n",
       "      <th>50%</th>\n",
       "      <th>75%</th>\n",
       "      <th>max</th>\n",
       "    </tr>\n",
       "  </thead>\n",
       "  <tbody>\n",
       "    <tr>\n",
       "      <th>Row_ID</th>\n",
       "      <td>1e+06</td>\n",
       "      <td>NaN</td>\n",
       "      <td>NaN</td>\n",
       "      <td>NaN</td>\n",
       "      <td>6.58319e+06</td>\n",
       "      <td>3.80667e+06</td>\n",
       "      <td>1</td>\n",
       "      <td>3.28308e+06</td>\n",
       "      <td>6.58203e+06</td>\n",
       "      <td>9.87529e+06</td>\n",
       "      <td>1.31842e+07</td>\n",
       "    </tr>\n",
       "    <tr>\n",
       "      <th>Household_ID</th>\n",
       "      <td>1e+06</td>\n",
       "      <td>NaN</td>\n",
       "      <td>NaN</td>\n",
       "      <td>NaN</td>\n",
       "      <td>4.12283e+06</td>\n",
       "      <td>2.24924e+06</td>\n",
       "      <td>1</td>\n",
       "      <td>2.18065e+06</td>\n",
       "      <td>4.25385e+06</td>\n",
       "      <td>6.2776e+06</td>\n",
       "      <td>7.54206e+06</td>\n",
       "    </tr>\n",
       "    <tr>\n",
       "      <th>Vehicle</th>\n",
       "      <td>1e+06</td>\n",
       "      <td>NaN</td>\n",
       "      <td>NaN</td>\n",
       "      <td>NaN</td>\n",
       "      <td>1.89136</td>\n",
       "      <td>1.17046</td>\n",
       "      <td>1</td>\n",
       "      <td>1</td>\n",
       "      <td>2</td>\n",
       "      <td>2</td>\n",
       "      <td>24</td>\n",
       "    </tr>\n",
       "    <tr>\n",
       "      <th>Calendar_Year</th>\n",
       "      <td>1e+06</td>\n",
       "      <td>NaN</td>\n",
       "      <td>NaN</td>\n",
       "      <td>NaN</td>\n",
       "      <td>2006.05</td>\n",
       "      <td>0.812612</td>\n",
       "      <td>2005</td>\n",
       "      <td>2005</td>\n",
       "      <td>2006</td>\n",
       "      <td>2007</td>\n",
       "      <td>2007</td>\n",
       "    </tr>\n",
       "    <tr>\n",
       "      <th>Model_Year</th>\n",
       "      <td>1e+06</td>\n",
       "      <td>NaN</td>\n",
       "      <td>NaN</td>\n",
       "      <td>NaN</td>\n",
       "      <td>1999.31</td>\n",
       "      <td>5.20987</td>\n",
       "      <td>1981</td>\n",
       "      <td>1996</td>\n",
       "      <td>2000</td>\n",
       "      <td>2003</td>\n",
       "      <td>2008</td>\n",
       "    </tr>\n",
       "    <tr>\n",
       "      <th>Blind_Make</th>\n",
       "      <td>1000000</td>\n",
       "      <td>72</td>\n",
       "      <td>K</td>\n",
       "      <td>125618</td>\n",
       "      <td>NaN</td>\n",
       "      <td>NaN</td>\n",
       "      <td>NaN</td>\n",
       "      <td>NaN</td>\n",
       "      <td>NaN</td>\n",
       "      <td>NaN</td>\n",
       "      <td>NaN</td>\n",
       "    </tr>\n",
       "    <tr>\n",
       "      <th>Blind_Model</th>\n",
       "      <td>1000000</td>\n",
       "      <td>1206</td>\n",
       "      <td>K.7</td>\n",
       "      <td>45232</td>\n",
       "      <td>NaN</td>\n",
       "      <td>NaN</td>\n",
       "      <td>NaN</td>\n",
       "      <td>NaN</td>\n",
       "      <td>NaN</td>\n",
       "      <td>NaN</td>\n",
       "      <td>NaN</td>\n",
       "    </tr>\n",
       "    <tr>\n",
       "      <th>Blind_Submodel</th>\n",
       "      <td>1000000</td>\n",
       "      <td>2512</td>\n",
       "      <td>K.7.3</td>\n",
       "      <td>12606</td>\n",
       "      <td>NaN</td>\n",
       "      <td>NaN</td>\n",
       "      <td>NaN</td>\n",
       "      <td>NaN</td>\n",
       "      <td>NaN</td>\n",
       "      <td>NaN</td>\n",
       "      <td>NaN</td>\n",
       "    </tr>\n",
       "    <tr>\n",
       "      <th>Cat1</th>\n",
       "      <td>1000000</td>\n",
       "      <td>11</td>\n",
       "      <td>B</td>\n",
       "      <td>304921</td>\n",
       "      <td>NaN</td>\n",
       "      <td>NaN</td>\n",
       "      <td>NaN</td>\n",
       "      <td>NaN</td>\n",
       "      <td>NaN</td>\n",
       "      <td>NaN</td>\n",
       "      <td>NaN</td>\n",
       "    </tr>\n",
       "    <tr>\n",
       "      <th>Cat2</th>\n",
       "      <td>1000000</td>\n",
       "      <td>4</td>\n",
       "      <td>C</td>\n",
       "      <td>447076</td>\n",
       "      <td>NaN</td>\n",
       "      <td>NaN</td>\n",
       "      <td>NaN</td>\n",
       "      <td>NaN</td>\n",
       "      <td>NaN</td>\n",
       "      <td>NaN</td>\n",
       "      <td>NaN</td>\n",
       "    </tr>\n",
       "    <tr>\n",
       "      <th>Cat3</th>\n",
       "      <td>1000000</td>\n",
       "      <td>7</td>\n",
       "      <td>A</td>\n",
       "      <td>567904</td>\n",
       "      <td>NaN</td>\n",
       "      <td>NaN</td>\n",
       "      <td>NaN</td>\n",
       "      <td>NaN</td>\n",
       "      <td>NaN</td>\n",
       "      <td>NaN</td>\n",
       "      <td>NaN</td>\n",
       "    </tr>\n",
       "    <tr>\n",
       "      <th>Cat4</th>\n",
       "      <td>1000000</td>\n",
       "      <td>4</td>\n",
       "      <td>A</td>\n",
       "      <td>434501</td>\n",
       "      <td>NaN</td>\n",
       "      <td>NaN</td>\n",
       "      <td>NaN</td>\n",
       "      <td>NaN</td>\n",
       "      <td>NaN</td>\n",
       "      <td>NaN</td>\n",
       "      <td>NaN</td>\n",
       "    </tr>\n",
       "    <tr>\n",
       "      <th>Cat5</th>\n",
       "      <td>1000000</td>\n",
       "      <td>4</td>\n",
       "      <td>A</td>\n",
       "      <td>507663</td>\n",
       "      <td>NaN</td>\n",
       "      <td>NaN</td>\n",
       "      <td>NaN</td>\n",
       "      <td>NaN</td>\n",
       "      <td>NaN</td>\n",
       "      <td>NaN</td>\n",
       "      <td>NaN</td>\n",
       "    </tr>\n",
       "    <tr>\n",
       "      <th>Cat6</th>\n",
       "      <td>1000000</td>\n",
       "      <td>6</td>\n",
       "      <td>B</td>\n",
       "      <td>323624</td>\n",
       "      <td>NaN</td>\n",
       "      <td>NaN</td>\n",
       "      <td>NaN</td>\n",
       "      <td>NaN</td>\n",
       "      <td>NaN</td>\n",
       "      <td>NaN</td>\n",
       "      <td>NaN</td>\n",
       "    </tr>\n",
       "    <tr>\n",
       "      <th>Cat7</th>\n",
       "      <td>1000000</td>\n",
       "      <td>5</td>\n",
       "      <td>?</td>\n",
       "      <td>543322</td>\n",
       "      <td>NaN</td>\n",
       "      <td>NaN</td>\n",
       "      <td>NaN</td>\n",
       "      <td>NaN</td>\n",
       "      <td>NaN</td>\n",
       "      <td>NaN</td>\n",
       "      <td>NaN</td>\n",
       "    </tr>\n",
       "    <tr>\n",
       "      <th>Cat8</th>\n",
       "      <td>1000000</td>\n",
       "      <td>4</td>\n",
       "      <td>A</td>\n",
       "      <td>653820</td>\n",
       "      <td>NaN</td>\n",
       "      <td>NaN</td>\n",
       "      <td>NaN</td>\n",
       "      <td>NaN</td>\n",
       "      <td>NaN</td>\n",
       "      <td>NaN</td>\n",
       "      <td>NaN</td>\n",
       "    </tr>\n",
       "    <tr>\n",
       "      <th>Cat9</th>\n",
       "      <td>1000000</td>\n",
       "      <td>2</td>\n",
       "      <td>B</td>\n",
       "      <td>822843</td>\n",
       "      <td>NaN</td>\n",
       "      <td>NaN</td>\n",
       "      <td>NaN</td>\n",
       "      <td>NaN</td>\n",
       "      <td>NaN</td>\n",
       "      <td>NaN</td>\n",
       "      <td>NaN</td>\n",
       "    </tr>\n",
       "    <tr>\n",
       "      <th>Cat10</th>\n",
       "      <td>1000000</td>\n",
       "      <td>4</td>\n",
       "      <td>A</td>\n",
       "      <td>649132</td>\n",
       "      <td>NaN</td>\n",
       "      <td>NaN</td>\n",
       "      <td>NaN</td>\n",
       "      <td>NaN</td>\n",
       "      <td>NaN</td>\n",
       "      <td>NaN</td>\n",
       "      <td>NaN</td>\n",
       "    </tr>\n",
       "    <tr>\n",
       "      <th>Cat11</th>\n",
       "      <td>1000000</td>\n",
       "      <td>7</td>\n",
       "      <td>A</td>\n",
       "      <td>527959</td>\n",
       "      <td>NaN</td>\n",
       "      <td>NaN</td>\n",
       "      <td>NaN</td>\n",
       "      <td>NaN</td>\n",
       "      <td>NaN</td>\n",
       "      <td>NaN</td>\n",
       "      <td>NaN</td>\n",
       "    </tr>\n",
       "    <tr>\n",
       "      <th>Cat12</th>\n",
       "      <td>997866</td>\n",
       "      <td>6</td>\n",
       "      <td>B</td>\n",
       "      <td>330030</td>\n",
       "      <td>NaN</td>\n",
       "      <td>NaN</td>\n",
       "      <td>NaN</td>\n",
       "      <td>NaN</td>\n",
       "      <td>NaN</td>\n",
       "      <td>NaN</td>\n",
       "      <td>NaN</td>\n",
       "    </tr>\n",
       "    <tr>\n",
       "      <th>OrdCat</th>\n",
       "      <td>1000000</td>\n",
       "      <td>8</td>\n",
       "      <td>4</td>\n",
       "      <td>450591</td>\n",
       "      <td>NaN</td>\n",
       "      <td>NaN</td>\n",
       "      <td>NaN</td>\n",
       "      <td>NaN</td>\n",
       "      <td>NaN</td>\n",
       "      <td>NaN</td>\n",
       "      <td>NaN</td>\n",
       "    </tr>\n",
       "    <tr>\n",
       "      <th>Var1</th>\n",
       "      <td>1e+06</td>\n",
       "      <td>NaN</td>\n",
       "      <td>NaN</td>\n",
       "      <td>NaN</td>\n",
       "      <td>-0.0103724</td>\n",
       "      <td>0.97894</td>\n",
       "      <td>-2.57822</td>\n",
       "      <td>-0.665897</td>\n",
       "      <td>-0.312358</td>\n",
       "      <td>0.44293</td>\n",
       "      <td>5.14339</td>\n",
       "    </tr>\n",
       "    <tr>\n",
       "      <th>Var2</th>\n",
       "      <td>1e+06</td>\n",
       "      <td>NaN</td>\n",
       "      <td>NaN</td>\n",
       "      <td>NaN</td>\n",
       "      <td>-0.0658064</td>\n",
       "      <td>0.967463</td>\n",
       "      <td>-2.49339</td>\n",
       "      <td>-0.816152</td>\n",
       "      <td>-0.124506</td>\n",
       "      <td>0.480684</td>\n",
       "      <td>7.43172</td>\n",
       "    </tr>\n",
       "    <tr>\n",
       "      <th>Var3</th>\n",
       "      <td>1e+06</td>\n",
       "      <td>NaN</td>\n",
       "      <td>NaN</td>\n",
       "      <td>NaN</td>\n",
       "      <td>-0.0260144</td>\n",
       "      <td>1.0181</td>\n",
       "      <td>-2.79034</td>\n",
       "      <td>-0.869687</td>\n",
       "      <td>-0.221758</td>\n",
       "      <td>0.726996</td>\n",
       "      <td>5.56333</td>\n",
       "    </tr>\n",
       "    <tr>\n",
       "      <th>Var4</th>\n",
       "      <td>1e+06</td>\n",
       "      <td>NaN</td>\n",
       "      <td>NaN</td>\n",
       "      <td>NaN</td>\n",
       "      <td>-0.0556501</td>\n",
       "      <td>0.966923</td>\n",
       "      <td>-2.50822</td>\n",
       "      <td>-0.783019</td>\n",
       "      <td>-0.106471</td>\n",
       "      <td>0.485509</td>\n",
       "      <td>7.20025</td>\n",
       "    </tr>\n",
       "    <tr>\n",
       "      <th>Var5</th>\n",
       "      <td>1e+06</td>\n",
       "      <td>NaN</td>\n",
       "      <td>NaN</td>\n",
       "      <td>NaN</td>\n",
       "      <td>0.00396864</td>\n",
       "      <td>0.989939</td>\n",
       "      <td>-3.35034</td>\n",
       "      <td>-0.686024</td>\n",
       "      <td>-0.115098</td>\n",
       "      <td>0.533141</td>\n",
       "      <td>4.00627</td>\n",
       "    </tr>\n",
       "    <tr>\n",
       "      <th>Var6</th>\n",
       "      <td>1e+06</td>\n",
       "      <td>NaN</td>\n",
       "      <td>NaN</td>\n",
       "      <td>NaN</td>\n",
       "      <td>-0.0409119</td>\n",
       "      <td>0.978466</td>\n",
       "      <td>-2.37666</td>\n",
       "      <td>-0.688765</td>\n",
       "      <td>-0.237257</td>\n",
       "      <td>0.497321</td>\n",
       "      <td>4.58429</td>\n",
       "    </tr>\n",
       "    <tr>\n",
       "      <th>Var7</th>\n",
       "      <td>1e+06</td>\n",
       "      <td>NaN</td>\n",
       "      <td>NaN</td>\n",
       "      <td>NaN</td>\n",
       "      <td>-0.0256219</td>\n",
       "      <td>1.00583</td>\n",
       "      <td>-2.77849</td>\n",
       "      <td>-0.898486</td>\n",
       "      <td>-0.480707</td>\n",
       "      <td>0.82178</td>\n",
       "      <td>4.12715</td>\n",
       "    </tr>\n",
       "    <tr>\n",
       "      <th>Var8</th>\n",
       "      <td>1e+06</td>\n",
       "      <td>NaN</td>\n",
       "      <td>NaN</td>\n",
       "      <td>NaN</td>\n",
       "      <td>-0.0585336</td>\n",
       "      <td>1.0018</td>\n",
       "      <td>-1.96515</td>\n",
       "      <td>-0.651768</td>\n",
       "      <td>-0.257404</td>\n",
       "      <td>0.34098</td>\n",
       "      <td>47.3507</td>\n",
       "    </tr>\n",
       "    <tr>\n",
       "      <th>NVCat</th>\n",
       "      <td>1000000</td>\n",
       "      <td>15</td>\n",
       "      <td>M</td>\n",
       "      <td>437376</td>\n",
       "      <td>NaN</td>\n",
       "      <td>NaN</td>\n",
       "      <td>NaN</td>\n",
       "      <td>NaN</td>\n",
       "      <td>NaN</td>\n",
       "      <td>NaN</td>\n",
       "      <td>NaN</td>\n",
       "    </tr>\n",
       "    <tr>\n",
       "      <th>NVVar1</th>\n",
       "      <td>1e+06</td>\n",
       "      <td>NaN</td>\n",
       "      <td>NaN</td>\n",
       "      <td>NaN</td>\n",
       "      <td>0.0165768</td>\n",
       "      <td>1.03584</td>\n",
       "      <td>-0.23153</td>\n",
       "      <td>-0.23153</td>\n",
       "      <td>-0.23153</td>\n",
       "      <td>-0.23153</td>\n",
       "      <td>6.62711</td>\n",
       "    </tr>\n",
       "    <tr>\n",
       "      <th>NVVar2</th>\n",
       "      <td>1e+06</td>\n",
       "      <td>NaN</td>\n",
       "      <td>NaN</td>\n",
       "      <td>NaN</td>\n",
       "      <td>0.0180772</td>\n",
       "      <td>1.04014</td>\n",
       "      <td>-0.266117</td>\n",
       "      <td>-0.266117</td>\n",
       "      <td>-0.266117</td>\n",
       "      <td>-0.266117</td>\n",
       "      <td>8.88308</td>\n",
       "    </tr>\n",
       "    <tr>\n",
       "      <th>NVVar3</th>\n",
       "      <td>1e+06</td>\n",
       "      <td>NaN</td>\n",
       "      <td>NaN</td>\n",
       "      <td>NaN</td>\n",
       "      <td>0.0129784</td>\n",
       "      <td>1.02433</td>\n",
       "      <td>-0.272337</td>\n",
       "      <td>-0.272337</td>\n",
       "      <td>-0.272337</td>\n",
       "      <td>-0.272337</td>\n",
       "      <td>8.69114</td>\n",
       "    </tr>\n",
       "    <tr>\n",
       "      <th>NVVar4</th>\n",
       "      <td>1e+06</td>\n",
       "      <td>NaN</td>\n",
       "      <td>NaN</td>\n",
       "      <td>NaN</td>\n",
       "      <td>0.0178499</td>\n",
       "      <td>1.03332</td>\n",
       "      <td>-0.251419</td>\n",
       "      <td>-0.251419</td>\n",
       "      <td>-0.251419</td>\n",
       "      <td>-0.251419</td>\n",
       "      <td>6.3888</td>\n",
       "    </tr>\n",
       "    <tr>\n",
       "      <th>Claim_Amount</th>\n",
       "      <td>1e+06</td>\n",
       "      <td>NaN</td>\n",
       "      <td>NaN</td>\n",
       "      <td>NaN</td>\n",
       "      <td>1.33201</td>\n",
       "      <td>38.2104</td>\n",
       "      <td>0</td>\n",
       "      <td>0</td>\n",
       "      <td>0</td>\n",
       "      <td>0</td>\n",
       "      <td>8045.92</td>\n",
       "    </tr>\n",
       "  </tbody>\n",
       "</table>\n",
       "</div>"
      ],
      "text/plain": [
       "                  count unique    top    freq         mean          std  \\\n",
       "Row_ID            1e+06    NaN    NaN     NaN  6.58319e+06  3.80667e+06   \n",
       "Household_ID      1e+06    NaN    NaN     NaN  4.12283e+06  2.24924e+06   \n",
       "Vehicle           1e+06    NaN    NaN     NaN      1.89136      1.17046   \n",
       "Calendar_Year     1e+06    NaN    NaN     NaN      2006.05     0.812612   \n",
       "Model_Year        1e+06    NaN    NaN     NaN      1999.31      5.20987   \n",
       "Blind_Make      1000000     72      K  125618          NaN          NaN   \n",
       "Blind_Model     1000000   1206    K.7   45232          NaN          NaN   \n",
       "Blind_Submodel  1000000   2512  K.7.3   12606          NaN          NaN   \n",
       "Cat1            1000000     11      B  304921          NaN          NaN   \n",
       "Cat2            1000000      4      C  447076          NaN          NaN   \n",
       "Cat3            1000000      7      A  567904          NaN          NaN   \n",
       "Cat4            1000000      4      A  434501          NaN          NaN   \n",
       "Cat5            1000000      4      A  507663          NaN          NaN   \n",
       "Cat6            1000000      6      B  323624          NaN          NaN   \n",
       "Cat7            1000000      5      ?  543322          NaN          NaN   \n",
       "Cat8            1000000      4      A  653820          NaN          NaN   \n",
       "Cat9            1000000      2      B  822843          NaN          NaN   \n",
       "Cat10           1000000      4      A  649132          NaN          NaN   \n",
       "Cat11           1000000      7      A  527959          NaN          NaN   \n",
       "Cat12            997866      6      B  330030          NaN          NaN   \n",
       "OrdCat          1000000      8      4  450591          NaN          NaN   \n",
       "Var1              1e+06    NaN    NaN     NaN   -0.0103724      0.97894   \n",
       "Var2              1e+06    NaN    NaN     NaN   -0.0658064     0.967463   \n",
       "Var3              1e+06    NaN    NaN     NaN   -0.0260144       1.0181   \n",
       "Var4              1e+06    NaN    NaN     NaN   -0.0556501     0.966923   \n",
       "Var5              1e+06    NaN    NaN     NaN   0.00396864     0.989939   \n",
       "Var6              1e+06    NaN    NaN     NaN   -0.0409119     0.978466   \n",
       "Var7              1e+06    NaN    NaN     NaN   -0.0256219      1.00583   \n",
       "Var8              1e+06    NaN    NaN     NaN   -0.0585336       1.0018   \n",
       "NVCat           1000000     15      M  437376          NaN          NaN   \n",
       "NVVar1            1e+06    NaN    NaN     NaN    0.0165768      1.03584   \n",
       "NVVar2            1e+06    NaN    NaN     NaN    0.0180772      1.04014   \n",
       "NVVar3            1e+06    NaN    NaN     NaN    0.0129784      1.02433   \n",
       "NVVar4            1e+06    NaN    NaN     NaN    0.0178499      1.03332   \n",
       "Claim_Amount      1e+06    NaN    NaN     NaN      1.33201      38.2104   \n",
       "\n",
       "                     min          25%          50%          75%          max  \n",
       "Row_ID                 1  3.28308e+06  6.58203e+06  9.87529e+06  1.31842e+07  \n",
       "Household_ID           1  2.18065e+06  4.25385e+06   6.2776e+06  7.54206e+06  \n",
       "Vehicle                1            1            2            2           24  \n",
       "Calendar_Year       2005         2005         2006         2007         2007  \n",
       "Model_Year          1981         1996         2000         2003         2008  \n",
       "Blind_Make           NaN          NaN          NaN          NaN          NaN  \n",
       "Blind_Model          NaN          NaN          NaN          NaN          NaN  \n",
       "Blind_Submodel       NaN          NaN          NaN          NaN          NaN  \n",
       "Cat1                 NaN          NaN          NaN          NaN          NaN  \n",
       "Cat2                 NaN          NaN          NaN          NaN          NaN  \n",
       "Cat3                 NaN          NaN          NaN          NaN          NaN  \n",
       "Cat4                 NaN          NaN          NaN          NaN          NaN  \n",
       "Cat5                 NaN          NaN          NaN          NaN          NaN  \n",
       "Cat6                 NaN          NaN          NaN          NaN          NaN  \n",
       "Cat7                 NaN          NaN          NaN          NaN          NaN  \n",
       "Cat8                 NaN          NaN          NaN          NaN          NaN  \n",
       "Cat9                 NaN          NaN          NaN          NaN          NaN  \n",
       "Cat10                NaN          NaN          NaN          NaN          NaN  \n",
       "Cat11                NaN          NaN          NaN          NaN          NaN  \n",
       "Cat12                NaN          NaN          NaN          NaN          NaN  \n",
       "OrdCat               NaN          NaN          NaN          NaN          NaN  \n",
       "Var1            -2.57822    -0.665897    -0.312358      0.44293      5.14339  \n",
       "Var2            -2.49339    -0.816152    -0.124506     0.480684      7.43172  \n",
       "Var3            -2.79034    -0.869687    -0.221758     0.726996      5.56333  \n",
       "Var4            -2.50822    -0.783019    -0.106471     0.485509      7.20025  \n",
       "Var5            -3.35034    -0.686024    -0.115098     0.533141      4.00627  \n",
       "Var6            -2.37666    -0.688765    -0.237257     0.497321      4.58429  \n",
       "Var7            -2.77849    -0.898486    -0.480707      0.82178      4.12715  \n",
       "Var8            -1.96515    -0.651768    -0.257404      0.34098      47.3507  \n",
       "NVCat                NaN          NaN          NaN          NaN          NaN  \n",
       "NVVar1          -0.23153     -0.23153     -0.23153     -0.23153      6.62711  \n",
       "NVVar2         -0.266117    -0.266117    -0.266117    -0.266117      8.88308  \n",
       "NVVar3         -0.272337    -0.272337    -0.272337    -0.272337      8.69114  \n",
       "NVVar4         -0.251419    -0.251419    -0.251419    -0.251419       6.3888  \n",
       "Claim_Amount           0            0            0            0      8045.92  "
      ]
     },
     "execution_count": 6,
     "metadata": {},
     "output_type": "execute_result"
    }
   ],
   "source": [
    "inputData.toPandas().describe(include = \"all\").transpose()"
   ]
  },
  {
   "cell_type": "code",
   "execution_count": 7,
   "metadata": {},
   "outputs": [
    {
     "data": {
      "text/plain": [
       "(1000000, 35)"
      ]
     },
     "execution_count": 7,
     "metadata": {},
     "output_type": "execute_result"
    }
   ],
   "source": [
    "inputData.count(), len(inputData.columns)"
   ]
  },
  {
   "cell_type": "code",
   "execution_count": 8,
   "metadata": {},
   "outputs": [
    {
     "name": "stdout",
     "output_type": "stream",
     "text": [
      "+--------+------------+-------+-------------+----------+----------+-----------+--------------+----+----+----+----+----+----+----+----+----+-----+-----+-----+------+----------+----------+----------+----------+----------+----------+----------+----------+-----+----------+----------+----------+----------+------------+\n",
      "|  Row_ID|Household_ID|Vehicle|Calendar_Year|Model_Year|Blind_Make|Blind_Model|Blind_Submodel|Cat1|Cat2|Cat3|Cat4|Cat5|Cat6|Cat7|Cat8|Cat9|Cat10|Cat11|Cat12|OrdCat|      Var1|      Var2|      Var3|      Var4|      Var5|      Var6|      Var7|      Var8|NVCat|    NVVar1|    NVVar2|    NVVar3|    NVVar4|Claim_Amount|\n",
      "+--------+------------+-------+-------------+----------+----------+-----------+--------------+----+----+----+----+----+----+----+----+----+-----+-----+-----+------+----------+----------+----------+----------+----------+----------+----------+----------+-----+----------+----------+----------+----------+------------+\n",
      "|11133137|     6690958|      1|         2006|      1992|        BW|      BW.33|       BW.33.1|   D|   ?|   C|   ?|   ?|   E|   ?|   A|   B|    A|    B|    D|     5| 3.4962213|  0.740051| 1.0972409| 1.0774881| 2.7216895| 2.4425492| 1.6081873|-0.1821408|    O|-0.2315299|-0.2661168|-0.2723372|-0.2514189|         0.0|\n",
      "|12066135|     7022371|      2|         2005|      1995|         M|       M.16|        M.16.1|   B|   ?|   A|   A|   A|   C|   C|   A|   B|    B|    A|    D|     2|-0.7703518|-1.5077976|-1.0316697|-1.5441353|-0.8822796|-1.4771497|-1.2548265|-0.9952642|    M|-0.2315299|-0.2661168|-0.2723372|-0.2514189|         0.0|\n",
      "| 5738430|     3900158|      2|         2007|      2000|        AJ|      AJ.58|       AJ.58.2|   D|   C|   A|   ?|   ?|   D|   ?|   A|   B|    B|    A|    E|     5|  2.130275| 0.8265067| 1.4674863| 1.1620566| 1.9664022| 0.7219055| 1.2272713|-0.2311491|    O|   6.62711|-0.2661168|-0.2723372|-0.2514189|         0.0|\n",
      "|10898092|     6612350|      2|         2005|      1992|         K|       K.82|        K.82.0|   F|   ?|   D|   C|   A|   F|   C|   A|   B|    A|    A|    D|     2|-1.4693948|-1.8190382| -1.679599|-1.5441353|-1.7446154|-1.8678329|-1.1688132|-1.3685155|    N|-0.2315299| 2.7836161|-0.2723372|-0.2514189|         0.0|\n",
      "|  250056|      221139|      2|         2006|      2003|        AQ|      AQ.17|       AQ.17.2|   B|   C|   B|   A|   A|   D|   C|   B|   A|    A|    A|    E|     4|  0.017076| 0.3077724| 0.3336099| 0.2318031| 0.5271934|-0.0231999|-0.7018839| 0.3092558|    M|-0.2315299|-0.2661168|-0.2723372|-0.2514189|         0.0|\n",
      "+--------+------------+-------+-------------+----------+----------+-----------+--------------+----+----+----+----+----+----+----+----+----+-----+-----+-----+------+----------+----------+----------+----------+----------+----------+----------+----------+-----+----------+----------+----------+----------+------------+\n",
      "only showing top 5 rows\n",
      "\n"
     ]
    }
   ],
   "source": [
    "inputData.show(5)"
   ]
  },
  {
   "cell_type": "markdown",
   "metadata": {},
   "source": [
    "###  As the '?' describes the unknown data in each column, lets identify how many columns exists with '?' (NAs)"
   ]
  },
  {
   "cell_type": "code",
   "execution_count": 9,
   "metadata": {},
   "outputs": [
    {
     "data": {
      "text/html": [
       "<div>\n",
       "<style>\n",
       "    .dataframe thead tr:only-child th {\n",
       "        text-align: right;\n",
       "    }\n",
       "\n",
       "    .dataframe thead th {\n",
       "        text-align: left;\n",
       "    }\n",
       "\n",
       "    .dataframe tbody tr th {\n",
       "        vertical-align: top;\n",
       "    }\n",
       "</style>\n",
       "<table border=\"1\" class=\"dataframe\">\n",
       "  <thead>\n",
       "    <tr style=\"text-align: right;\">\n",
       "      <th></th>\n",
       "      <th>0</th>\n",
       "    </tr>\n",
       "  </thead>\n",
       "  <tbody>\n",
       "    <tr>\n",
       "      <th>Row_ID</th>\n",
       "      <td>0</td>\n",
       "    </tr>\n",
       "    <tr>\n",
       "      <th>Household_ID</th>\n",
       "      <td>0</td>\n",
       "    </tr>\n",
       "    <tr>\n",
       "      <th>Vehicle</th>\n",
       "      <td>0</td>\n",
       "    </tr>\n",
       "    <tr>\n",
       "      <th>Calendar_Year</th>\n",
       "      <td>0</td>\n",
       "    </tr>\n",
       "    <tr>\n",
       "      <th>Model_Year</th>\n",
       "      <td>0</td>\n",
       "    </tr>\n",
       "    <tr>\n",
       "      <th>Blind_Make</th>\n",
       "      <td>0</td>\n",
       "    </tr>\n",
       "    <tr>\n",
       "      <th>Blind_Model</th>\n",
       "      <td>0</td>\n",
       "    </tr>\n",
       "    <tr>\n",
       "      <th>Blind_Submodel</th>\n",
       "      <td>0</td>\n",
       "    </tr>\n",
       "    <tr>\n",
       "      <th>Cat1</th>\n",
       "      <td>0</td>\n",
       "    </tr>\n",
       "    <tr>\n",
       "      <th>Cat2</th>\n",
       "      <td>0</td>\n",
       "    </tr>\n",
       "    <tr>\n",
       "      <th>Cat3</th>\n",
       "      <td>0</td>\n",
       "    </tr>\n",
       "    <tr>\n",
       "      <th>Cat4</th>\n",
       "      <td>0</td>\n",
       "    </tr>\n",
       "    <tr>\n",
       "      <th>Cat5</th>\n",
       "      <td>0</td>\n",
       "    </tr>\n",
       "    <tr>\n",
       "      <th>Cat6</th>\n",
       "      <td>0</td>\n",
       "    </tr>\n",
       "    <tr>\n",
       "      <th>Cat7</th>\n",
       "      <td>0</td>\n",
       "    </tr>\n",
       "    <tr>\n",
       "      <th>Cat8</th>\n",
       "      <td>0</td>\n",
       "    </tr>\n",
       "    <tr>\n",
       "      <th>Cat9</th>\n",
       "      <td>0</td>\n",
       "    </tr>\n",
       "    <tr>\n",
       "      <th>Cat10</th>\n",
       "      <td>0</td>\n",
       "    </tr>\n",
       "    <tr>\n",
       "      <th>Cat11</th>\n",
       "      <td>0</td>\n",
       "    </tr>\n",
       "    <tr>\n",
       "      <th>Cat12</th>\n",
       "      <td>2134</td>\n",
       "    </tr>\n",
       "    <tr>\n",
       "      <th>OrdCat</th>\n",
       "      <td>0</td>\n",
       "    </tr>\n",
       "    <tr>\n",
       "      <th>Var1</th>\n",
       "      <td>0</td>\n",
       "    </tr>\n",
       "    <tr>\n",
       "      <th>Var2</th>\n",
       "      <td>0</td>\n",
       "    </tr>\n",
       "    <tr>\n",
       "      <th>Var3</th>\n",
       "      <td>0</td>\n",
       "    </tr>\n",
       "    <tr>\n",
       "      <th>Var4</th>\n",
       "      <td>0</td>\n",
       "    </tr>\n",
       "    <tr>\n",
       "      <th>Var5</th>\n",
       "      <td>0</td>\n",
       "    </tr>\n",
       "    <tr>\n",
       "      <th>Var6</th>\n",
       "      <td>0</td>\n",
       "    </tr>\n",
       "    <tr>\n",
       "      <th>Var7</th>\n",
       "      <td>0</td>\n",
       "    </tr>\n",
       "    <tr>\n",
       "      <th>Var8</th>\n",
       "      <td>0</td>\n",
       "    </tr>\n",
       "    <tr>\n",
       "      <th>NVCat</th>\n",
       "      <td>0</td>\n",
       "    </tr>\n",
       "    <tr>\n",
       "      <th>NVVar1</th>\n",
       "      <td>0</td>\n",
       "    </tr>\n",
       "    <tr>\n",
       "      <th>NVVar2</th>\n",
       "      <td>0</td>\n",
       "    </tr>\n",
       "    <tr>\n",
       "      <th>NVVar3</th>\n",
       "      <td>0</td>\n",
       "    </tr>\n",
       "    <tr>\n",
       "      <th>NVVar4</th>\n",
       "      <td>0</td>\n",
       "    </tr>\n",
       "    <tr>\n",
       "      <th>Claim_Amount</th>\n",
       "      <td>0</td>\n",
       "    </tr>\n",
       "  </tbody>\n",
       "</table>\n",
       "</div>"
      ],
      "text/plain": [
       "                   0\n",
       "Row_ID             0\n",
       "Household_ID       0\n",
       "Vehicle            0\n",
       "Calendar_Year      0\n",
       "Model_Year         0\n",
       "Blind_Make         0\n",
       "Blind_Model        0\n",
       "Blind_Submodel     0\n",
       "Cat1               0\n",
       "Cat2               0\n",
       "Cat3               0\n",
       "Cat4               0\n",
       "Cat5               0\n",
       "Cat6               0\n",
       "Cat7               0\n",
       "Cat8               0\n",
       "Cat9               0\n",
       "Cat10              0\n",
       "Cat11              0\n",
       "Cat12           2134\n",
       "OrdCat             0\n",
       "Var1               0\n",
       "Var2               0\n",
       "Var3               0\n",
       "Var4               0\n",
       "Var5               0\n",
       "Var6               0\n",
       "Var7               0\n",
       "Var8               0\n",
       "NVCat              0\n",
       "NVVar1             0\n",
       "NVVar2             0\n",
       "NVVar3             0\n",
       "NVVar4             0\n",
       "Claim_Amount       0"
      ]
     },
     "execution_count": 9,
     "metadata": {},
     "output_type": "execute_result"
    }
   ],
   "source": [
    "# Display NA values prior to replacing ?\n",
    "inputData.select([count(when(isnan(c) | col(c).isNull(), c)).alias(c) for c in inputData.columns]).toPandas().transpose()"
   ]
  },
  {
   "cell_type": "code",
   "execution_count": 10,
   "metadata": {},
   "outputs": [
    {
     "data": {
      "text/html": [
       "<div>\n",
       "<style>\n",
       "    .dataframe thead tr:only-child th {\n",
       "        text-align: right;\n",
       "    }\n",
       "\n",
       "    .dataframe thead th {\n",
       "        text-align: left;\n",
       "    }\n",
       "\n",
       "    .dataframe tbody tr th {\n",
       "        vertical-align: top;\n",
       "    }\n",
       "</style>\n",
       "<table border=\"1\" class=\"dataframe\">\n",
       "  <thead>\n",
       "    <tr style=\"text-align: right;\">\n",
       "      <th></th>\n",
       "      <th>0</th>\n",
       "    </tr>\n",
       "  </thead>\n",
       "  <tbody>\n",
       "    <tr>\n",
       "      <th>Row_ID</th>\n",
       "      <td>0</td>\n",
       "    </tr>\n",
       "    <tr>\n",
       "      <th>Household_ID</th>\n",
       "      <td>0</td>\n",
       "    </tr>\n",
       "    <tr>\n",
       "      <th>Vehicle</th>\n",
       "      <td>0</td>\n",
       "    </tr>\n",
       "    <tr>\n",
       "      <th>Calendar_Year</th>\n",
       "      <td>0</td>\n",
       "    </tr>\n",
       "    <tr>\n",
       "      <th>Model_Year</th>\n",
       "      <td>0</td>\n",
       "    </tr>\n",
       "    <tr>\n",
       "      <th>Blind_Make</th>\n",
       "      <td>653</td>\n",
       "    </tr>\n",
       "    <tr>\n",
       "      <th>Blind_Model</th>\n",
       "      <td>653</td>\n",
       "    </tr>\n",
       "    <tr>\n",
       "      <th>Blind_Submodel</th>\n",
       "      <td>653</td>\n",
       "    </tr>\n",
       "    <tr>\n",
       "      <th>Cat1</th>\n",
       "      <td>1995</td>\n",
       "    </tr>\n",
       "    <tr>\n",
       "      <th>Cat2</th>\n",
       "      <td>369621</td>\n",
       "    </tr>\n",
       "    <tr>\n",
       "      <th>Cat3</th>\n",
       "      <td>325</td>\n",
       "    </tr>\n",
       "    <tr>\n",
       "      <th>Cat4</th>\n",
       "      <td>426569</td>\n",
       "    </tr>\n",
       "    <tr>\n",
       "      <th>Cat5</th>\n",
       "      <td>426969</td>\n",
       "    </tr>\n",
       "    <tr>\n",
       "      <th>Cat6</th>\n",
       "      <td>1995</td>\n",
       "    </tr>\n",
       "    <tr>\n",
       "      <th>Cat7</th>\n",
       "      <td>543322</td>\n",
       "    </tr>\n",
       "    <tr>\n",
       "      <th>Cat8</th>\n",
       "      <td>278</td>\n",
       "    </tr>\n",
       "    <tr>\n",
       "      <th>Cat9</th>\n",
       "      <td>0</td>\n",
       "    </tr>\n",
       "    <tr>\n",
       "      <th>Cat10</th>\n",
       "      <td>314</td>\n",
       "    </tr>\n",
       "    <tr>\n",
       "      <th>Cat11</th>\n",
       "      <td>2316</td>\n",
       "    </tr>\n",
       "    <tr>\n",
       "      <th>Cat12</th>\n",
       "      <td>0</td>\n",
       "    </tr>\n",
       "    <tr>\n",
       "      <th>OrdCat</th>\n",
       "      <td>568</td>\n",
       "    </tr>\n",
       "    <tr>\n",
       "      <th>Var1</th>\n",
       "      <td>0</td>\n",
       "    </tr>\n",
       "    <tr>\n",
       "      <th>Var2</th>\n",
       "      <td>0</td>\n",
       "    </tr>\n",
       "    <tr>\n",
       "      <th>Var3</th>\n",
       "      <td>0</td>\n",
       "    </tr>\n",
       "    <tr>\n",
       "      <th>Var4</th>\n",
       "      <td>0</td>\n",
       "    </tr>\n",
       "    <tr>\n",
       "      <th>Var5</th>\n",
       "      <td>0</td>\n",
       "    </tr>\n",
       "    <tr>\n",
       "      <th>Var6</th>\n",
       "      <td>0</td>\n",
       "    </tr>\n",
       "    <tr>\n",
       "      <th>Var7</th>\n",
       "      <td>0</td>\n",
       "    </tr>\n",
       "    <tr>\n",
       "      <th>Var8</th>\n",
       "      <td>0</td>\n",
       "    </tr>\n",
       "    <tr>\n",
       "      <th>NVCat</th>\n",
       "      <td>0</td>\n",
       "    </tr>\n",
       "    <tr>\n",
       "      <th>NVVar1</th>\n",
       "      <td>0</td>\n",
       "    </tr>\n",
       "    <tr>\n",
       "      <th>NVVar2</th>\n",
       "      <td>0</td>\n",
       "    </tr>\n",
       "    <tr>\n",
       "      <th>NVVar3</th>\n",
       "      <td>0</td>\n",
       "    </tr>\n",
       "    <tr>\n",
       "      <th>NVVar4</th>\n",
       "      <td>0</td>\n",
       "    </tr>\n",
       "    <tr>\n",
       "      <th>Claim_Amount</th>\n",
       "      <td>0</td>\n",
       "    </tr>\n",
       "  </tbody>\n",
       "</table>\n",
       "</div>"
      ],
      "text/plain": [
       "                     0\n",
       "Row_ID               0\n",
       "Household_ID         0\n",
       "Vehicle              0\n",
       "Calendar_Year        0\n",
       "Model_Year           0\n",
       "Blind_Make         653\n",
       "Blind_Model        653\n",
       "Blind_Submodel     653\n",
       "Cat1              1995\n",
       "Cat2            369621\n",
       "Cat3               325\n",
       "Cat4            426569\n",
       "Cat5            426969\n",
       "Cat6              1995\n",
       "Cat7            543322\n",
       "Cat8               278\n",
       "Cat9                 0\n",
       "Cat10              314\n",
       "Cat11             2316\n",
       "Cat12                0\n",
       "OrdCat             568\n",
       "Var1                 0\n",
       "Var2                 0\n",
       "Var3                 0\n",
       "Var4                 0\n",
       "Var5                 0\n",
       "Var6                 0\n",
       "Var7                 0\n",
       "Var8                 0\n",
       "NVCat                0\n",
       "NVVar1               0\n",
       "NVVar2               0\n",
       "NVVar3               0\n",
       "NVVar4               0\n",
       "Claim_Amount         0"
      ]
     },
     "execution_count": 10,
     "metadata": {},
     "output_type": "execute_result"
    }
   ],
   "source": [
    "inputData.select([count(when(col(c) == \"?\", c)).alias(c) for c in inputData.columns]).toPandas().transpose()"
   ]
  },
  {
   "cell_type": "markdown",
   "metadata": {},
   "source": [
    "### Replace all '?' values in the result data frame as NAs."
   ]
  },
  {
   "cell_type": "code",
   "execution_count": 11,
   "metadata": {
    "collapsed": true
   },
   "outputs": [],
   "source": [
    "for c in inputData.columns:\n",
    "    inputData = inputData.withColumn(c, when(inputData[c] == \"?\", float('nan')).otherwise(inputData[c]))"
   ]
  },
  {
   "cell_type": "code",
   "execution_count": 12,
   "metadata": {},
   "outputs": [
    {
     "name": "stdout",
     "output_type": "stream",
     "text": [
      "+------+------------+-------+-------------+----------+----------+-----------+--------------+----+------+----+------+------+----+------+----+----+-----+-----+-----+------+----+----+----+----+----+----+----+----+-----+------+------+------+------+------------+\n",
      "|Row_ID|Household_ID|Vehicle|Calendar_Year|Model_Year|Blind_Make|Blind_Model|Blind_Submodel|Cat1|  Cat2|Cat3|  Cat4|  Cat5|Cat6|  Cat7|Cat8|Cat9|Cat10|Cat11|Cat12|OrdCat|Var1|Var2|Var3|Var4|Var5|Var6|Var7|Var8|NVCat|NVVar1|NVVar2|NVVar3|NVVar4|Claim_Amount|\n",
      "+------+------------+-------+-------------+----------+----------+-----------+--------------+----+------+----+------+------+----+------+----+----+-----+-----+-----+------+----+----+----+----+----+----+----+----+-----+------+------+------+------+------------+\n",
      "|     0|           0|      0|            0|         0|       653|        653|           653|1995|369621| 325|426569|426969|1995|543322| 278|   0|  314| 2316| 2134|   568|   0|   0|   0|   0|   0|   0|   0|   0|    0|     0|     0|     0|     0|           0|\n",
      "+------+------------+-------+-------------+----------+----------+-----------+--------------+----+------+----+------+------+----+------+----+----+-----+-----+-----+------+----+----+----+----+----+----+----+----+-----+------+------+------+------+------------+\n",
      "\n"
     ]
    }
   ],
   "source": [
    "# Display NA values after replacing\n",
    "inputData.select([count(when(isnan(c) | col(c).isNull(), c)).alias(c) for c in inputData.columns]).show()"
   ]
  },
  {
   "cell_type": "markdown",
   "metadata": {},
   "source": [
    "###  Remove all the columns where the no. of rows with '?' exceeds 35% for that column."
   ]
  },
  {
   "cell_type": "code",
   "execution_count": 2,
   "metadata": {},
   "outputs": [],
   "source": [
    "#inputData = inputData.drop('Cat2', \"Cat4\", \"Cat5\", \"Cat7\")"
   ]
  },
  {
   "cell_type": "markdown",
   "metadata": {},
   "source": [
    "### Fill remaining Null Values with Zeroes in the entire dataset, if any."
   ]
  },
  {
   "cell_type": "code",
   "execution_count": 13,
   "metadata": {
    "collapsed": true
   },
   "outputs": [],
   "source": [
    "for c in inputData.columns:\n",
    "    inputData = inputData.withColumn(c, when(isnan(inputData[c]) | col(c).isNull(), 0).otherwise(inputData[c]))"
   ]
  },
  {
   "cell_type": "code",
   "execution_count": 14,
   "metadata": {},
   "outputs": [
    {
     "name": "stdout",
     "output_type": "stream",
     "text": [
      "+------+------------+-------+-------------+----------+----------+-----------+--------------+----+----+----+----+----+----+----+----+----+-----+-----+-----+------+----+----+----+----+----+----+----+----+-----+------+------+------+------+------------+\n",
      "|Row_ID|Household_ID|Vehicle|Calendar_Year|Model_Year|Blind_Make|Blind_Model|Blind_Submodel|Cat1|Cat2|Cat3|Cat4|Cat5|Cat6|Cat7|Cat8|Cat9|Cat10|Cat11|Cat12|OrdCat|Var1|Var2|Var3|Var4|Var5|Var6|Var7|Var8|NVCat|NVVar1|NVVar2|NVVar3|NVVar4|Claim_Amount|\n",
      "+------+------------+-------+-------------+----------+----------+-----------+--------------+----+----+----+----+----+----+----+----+----+-----+-----+-----+------+----+----+----+----+----+----+----+----+-----+------+------+------+------+------------+\n",
      "|     0|           0|      0|            0|         0|         0|          0|             0|   0|   0|   0|   0|   0|   0|   0|   0|   0|    0|    0|    0|     0|   0|   0|   0|   0|   0|   0|   0|   0|    0|     0|     0|     0|     0|           0|\n",
      "+------+------------+-------+-------------+----------+----------+-----------+--------------+----+----+----+----+----+----+----+----+----+-----+-----+-----+------+----+----+----+----+----+----+----+----+-----+------+------+------+------+------------+\n",
      "\n"
     ]
    }
   ],
   "source": [
    "# Check if na values are replaced\n",
    "inputData.select([count(when(isnan(c) | col(c).isNull(), c)).alias(c) for c in inputData.columns]).show()"
   ]
  },
  {
   "cell_type": "markdown",
   "metadata": {},
   "source": [
    "### Derive a new column Vehicle_age = Current Year - Model year"
   ]
  },
  {
   "cell_type": "code",
   "execution_count": 15,
   "metadata": {
    "collapsed": true
   },
   "outputs": [],
   "source": [
    "inputData = inputData.withColumn(\"Vehicle_age\", inputData.Calendar_Year - inputData.Model_Year)"
   ]
  },
  {
   "cell_type": "code",
   "execution_count": 16,
   "metadata": {},
   "outputs": [
    {
     "name": "stdout",
     "output_type": "stream",
     "text": [
      "+-----------+------------+-------+-------------+----------+----------+-----------+--------------+----+----+----+----+----+----+----+----+----+-----+-----+-----+------+----------+----------+----------+----------+----------+----------+----------+----------+-----+----------+----------+----------+----------+------------+-----------+\n",
      "|     Row_ID|Household_ID|Vehicle|Calendar_Year|Model_Year|Blind_Make|Blind_Model|Blind_Submodel|Cat1|Cat2|Cat3|Cat4|Cat5|Cat6|Cat7|Cat8|Cat9|Cat10|Cat11|Cat12|OrdCat|      Var1|      Var2|      Var3|      Var4|      Var5|      Var6|      Var7|      Var8|NVCat|    NVVar1|    NVVar2|    NVVar3|    NVVar4|Claim_Amount|Vehicle_age|\n",
      "+-----------+------------+-------+-------------+----------+----------+-----------+--------------+----+----+----+----+----+----+----+----+----+-----+-----+-----+------+----------+----------+----------+----------+----------+----------+----------+----------+-----+----------+----------+----------+----------+------------+-----------+\n",
      "|1.1133137E7|   6690958.0|    1.0|       2006.0|    1992.0|        BW|      BW.33|       BW.33.1|   D|   0|   C|   0|   0|   E|   0|   A|   B|    A|    B|    D|     5| 3.4962213|  0.740051| 1.0972409| 1.0774881| 2.7216895| 2.4425492| 1.6081873|-0.1821408|    O|-0.2315299|-0.2661168|-0.2723372|-0.2514189|         0.0|       14.0|\n",
      "|1.2066135E7|   7022371.0|    2.0|       2005.0|    1995.0|         M|       M.16|        M.16.1|   B|   0|   A|   A|   A|   C|   C|   A|   B|    B|    A|    D|     2|-0.7703518|-1.5077976|-1.0316697|-1.5441353|-0.8822796|-1.4771497|-1.2548265|-0.9952642|    M|-0.2315299|-0.2661168|-0.2723372|-0.2514189|         0.0|       10.0|\n",
      "|  5738430.0|   3900158.0|    2.0|       2007.0|    2000.0|        AJ|      AJ.58|       AJ.58.2|   D|   C|   A|   0|   0|   D|   0|   A|   B|    B|    A|    E|     5|  2.130275| 0.8265067| 1.4674863| 1.1620566| 1.9664022| 0.7219055| 1.2272713|-0.2311491|    O|   6.62711|-0.2661168|-0.2723372|-0.2514189|         0.0|        7.0|\n",
      "|1.0898092E7|   6612350.0|    2.0|       2005.0|    1992.0|         K|       K.82|        K.82.0|   F|   0|   D|   C|   A|   F|   C|   A|   B|    A|    A|    D|     2|-1.4693948|-1.8190382| -1.679599|-1.5441353|-1.7446154|-1.8678329|-1.1688132|-1.3685155|    N|-0.2315299| 2.7836161|-0.2723372|-0.2514189|         0.0|       13.0|\n",
      "|   250056.0|    221139.0|    2.0|       2006.0|    2003.0|        AQ|      AQ.17|       AQ.17.2|   B|   C|   B|   A|   A|   D|   C|   B|   A|    A|    A|    E|     4|  0.017076| 0.3077724| 0.3336099| 0.2318031| 0.5271934|-0.0231999|-0.7018839| 0.3092558|    M|-0.2315299|-0.2661168|-0.2723372|-0.2514189|         0.0|        3.0|\n",
      "+-----------+------------+-------+-------------+----------+----------+-----------+--------------+----+----+----+----+----+----+----+----+----+-----+-----+-----+------+----------+----------+----------+----------+----------+----------+----------+----------+-----+----------+----------+----------+----------+------------+-----------+\n",
      "only showing top 5 rows\n",
      "\n"
     ]
    }
   ],
   "source": [
    "inputData.show(5)"
   ]
  },
  {
   "cell_type": "markdown",
   "metadata": {},
   "source": [
    "### Extract all the non-zero target records from the dataset(> 0) into a new dataframe and verify the number of rows."
   ]
  },
  {
   "cell_type": "code",
   "execution_count": 17,
   "metadata": {
    "collapsed": true
   },
   "outputs": [],
   "source": [
    "inputData_non_zero = inputData.filter(inputData.Claim_Amount > 0.0)"
   ]
  },
  {
   "cell_type": "code",
   "execution_count": 18,
   "metadata": {},
   "outputs": [
    {
     "data": {
      "text/plain": [
       "7249"
      ]
     },
     "execution_count": 18,
     "metadata": {},
     "output_type": "execute_result"
    }
   ],
   "source": [
    "inputData_non_zero.count()"
   ]
  },
  {
   "cell_type": "code",
   "execution_count": 19,
   "metadata": {},
   "outputs": [
    {
     "data": {
      "text/plain": [
       "[('Calendar_Year', 'double'),\n",
       " ('Model_Year', 'double'),\n",
       " ('Blind_Make', 'string'),\n",
       " ('Blind_Model', 'string'),\n",
       " ('Blind_Submodel', 'string'),\n",
       " ('Cat1', 'string'),\n",
       " ('Cat2', 'string'),\n",
       " ('Cat3', 'string'),\n",
       " ('Cat4', 'string'),\n",
       " ('Cat5', 'string'),\n",
       " ('Cat6', 'string'),\n",
       " ('Cat7', 'string'),\n",
       " ('Cat8', 'string'),\n",
       " ('Cat9', 'string'),\n",
       " ('Cat10', 'string'),\n",
       " ('Cat11', 'string'),\n",
       " ('Cat12', 'string'),\n",
       " ('OrdCat', 'string'),\n",
       " ('Var1', 'double'),\n",
       " ('Var2', 'double'),\n",
       " ('Var3', 'double'),\n",
       " ('Var4', 'double'),\n",
       " ('Var5', 'double'),\n",
       " ('Var6', 'double'),\n",
       " ('Var7', 'double'),\n",
       " ('Var8', 'double'),\n",
       " ('NVCat', 'string'),\n",
       " ('NVVar1', 'double'),\n",
       " ('NVVar2', 'double'),\n",
       " ('NVVar3', 'double'),\n",
       " ('NVVar4', 'double'),\n",
       " ('Claim_Amount', 'double'),\n",
       " ('Vehicle_age', 'double')]"
      ]
     },
     "execution_count": 19,
     "metadata": {},
     "output_type": "execute_result"
    }
   ],
   "source": [
    "### Remove the columns Row_ID, Household_ID and Vehicle from the original dataframe.\n",
    "inputData_non_zero = inputData_non_zero.drop('Row_ID', 'Household_ID', 'Vehicle')\n",
    "inputData_non_zero.dtypes"
   ]
  },
  {
   "cell_type": "code",
   "execution_count": 20,
   "metadata": {
    "collapsed": true
   },
   "outputs": [],
   "source": [
    "def getCorrDetails(inputData):\n",
    "    dfColumns = [\"Column1\", \"Column2\", \"Correlation\"]\n",
    "    correlationDF = pd.DataFrame(columns=dfColumns)\n",
    "    columns1 = [d[0] for d in inputData.dtypes if d[1] != 'string']\n",
    "    columns2 = [d[0] for d in inputData.dtypes if d[1] != 'string']\n",
    "    if(len(columns1) > 1):\n",
    "        for col1 in columns1:\n",
    "            for col2 in columns2:\n",
    "                if col1 != col2:\n",
    "                    corrValue = inputData.stat.corr(col1, col2)\n",
    "                    tempDF = pd.DataFrame([[col1, col2, corrValue]], columns=dfColumns)\n",
    "                    correlationDF = correlationDF.append(tempDF)\n",
    "            columns2.remove(col1)\n",
    "    correlationDF = correlationDF.sort_values(by = \"Correlation\", ascending=False) \n",
    "    return correlationDF"
   ]
  },
  {
   "cell_type": "markdown",
   "metadata": {},
   "source": [
    "### Check Correlation of numeric attributes"
   ]
  },
  {
   "cell_type": "code",
   "execution_count": 31,
   "metadata": {
    "collapsed": true
   },
   "outputs": [],
   "source": [
    "# Run correlation of numeric columns\n",
    "print(getCorrDetails(inputData_non_zero))"
   ]
  },
  {
   "cell_type": "markdown",
   "metadata": {},
   "source": [
    "### Create two new dataframes\n",
    "1. train_DF, For the data where Calendar_Year = 2005 and 2006\n",
    "2. test_DF, For the data where Calendar_Year = 2007"
   ]
  },
  {
   "cell_type": "markdown",
   "metadata": {},
   "source": [
    "### Train & Validation Split for data"
   ]
  },
  {
   "cell_type": "code",
   "execution_count": 22,
   "metadata": {
    "collapsed": true
   },
   "outputs": [],
   "source": [
    "train_DF = inputData_non_zero.filter((inputData_non_zero.Calendar_Year != 2007.0))\n",
    "test_DF = inputData_non_zero.filter((inputData_non_zero.Calendar_Year == 2007.0))"
   ]
  },
  {
   "cell_type": "markdown",
   "metadata": {},
   "source": [
    "### Drop Calendar_year in train & test as train & test has distinct values"
   ]
  },
  {
   "cell_type": "code",
   "execution_count": 25,
   "metadata": {
    "collapsed": true
   },
   "outputs": [],
   "source": [
    "train_DF = train_DF.drop(\"Calendar_Year\")\n",
    "test_DF = test_DF.drop(\"Calendar_Year\")"
   ]
  },
  {
   "cell_type": "code",
   "execution_count": 26,
   "metadata": {},
   "outputs": [
    {
     "data": {
      "text/plain": [
       "4644"
      ]
     },
     "execution_count": 26,
     "metadata": {},
     "output_type": "execute_result"
    }
   ],
   "source": [
    "train_DF.count()"
   ]
  },
  {
   "cell_type": "code",
   "execution_count": 27,
   "metadata": {},
   "outputs": [
    {
     "data": {
      "text/plain": [
       "2605"
      ]
     },
     "execution_count": 27,
     "metadata": {},
     "output_type": "execute_result"
    }
   ],
   "source": [
    "test_DF.count()"
   ]
  },
  {
   "cell_type": "markdown",
   "metadata": {},
   "source": [
    "### Separate into Categorical and Continuous attributes."
   ]
  },
  {
   "cell_type": "code",
   "execution_count": 32,
   "metadata": {
    "collapsed": true
   },
   "outputs": [],
   "source": [
    "numColumns = [d[0] for d in train_DF.dtypes if d[1] != 'string']\n",
    "catColumns = [d[0] for d in train_DF.dtypes if d[1] == 'string']"
   ]
  },
  {
   "cell_type": "code",
   "execution_count": 33,
   "metadata": {},
   "outputs": [
    {
     "name": "stdout",
     "output_type": "stream",
     "text": [
      "('Numeric Columns : ', ['Model_Year', 'Var1', 'Var2', 'Var3', 'Var4', 'Var5', 'Var6', 'Var7', 'Var8', 'NVVar1', 'NVVar2', 'NVVar3', 'NVVar4', 'Vehicle_age'])\n",
      "('Categorical Columns : ', ['Blind_Make', 'Blind_Model', 'Blind_Submodel', 'Cat1', 'Cat2', 'Cat3', 'Cat4', 'Cat5', 'Cat6', 'Cat7', 'Cat8', 'Cat9', 'Cat10', 'Cat11', 'Cat12', 'OrdCat', 'NVCat'])\n",
      "('Target Columns : ', 'Claim_Amount')\n"
     ]
    }
   ],
   "source": [
    "labelColumn = \"Claim_Amount\"\n",
    "numColumns.remove(labelColumn)\n",
    "print(\"Numeric Columns : \", numColumns)\n",
    "print(\"Categorical Columns : \", catColumns)\n",
    "print(\"Target Columns : \", labelColumn)\n"
   ]
  },
  {
   "cell_type": "code",
   "execution_count": 34,
   "metadata": {},
   "outputs": [
    {
     "name": "stdout",
     "output_type": "stream",
     "text": [
      "('Blind_Make', 48, 47)\n",
      "('Blind_Model', 502, 421)\n",
      "('Blind_Submodel', 875, 681)\n",
      "('Cat1', 11, 11)\n",
      "('Cat2', 4, 4)\n",
      "('Cat3', 7, 6)\n",
      "('Cat4', 4, 4)\n",
      "('Cat5', 4, 4)\n",
      "('Cat6', 6, 6)\n",
      "('Cat7', 5, 5)\n",
      "('Cat8', 4, 3)\n",
      "('Cat9', 2, 2)\n",
      "('Cat10', 4, 4)\n",
      "('Cat11', 7, 7)\n",
      "('Cat12', 6, 6)\n",
      "('OrdCat', 7, 8)\n",
      "('NVCat', 15, 15)\n"
     ]
    }
   ],
   "source": [
    "## Columns with different categories in train & test\n",
    "for c in catColumns:\n",
    "    print(c, train_DF.select(c).distinct().count(), test_DF.select(c).distinct().count())"
   ]
  },
  {
   "cell_type": "markdown",
   "metadata": {},
   "source": [
    "### Build Pipeline for pre-processing stages"
   ]
  },
  {
   "cell_type": "markdown",
   "metadata": {},
   "source": [
    "1. Combine numeric columns into single vector column using vector assembler\n",
    "2. Scale numeric features using StandardScalr\n",
    "3. Convert Categorical to numeric using One Hot Encoder, String Indexer and combine them using vector assembler"
   ]
  },
  {
   "cell_type": "code",
   "execution_count": 35,
   "metadata": {
    "collapsed": true
   },
   "outputs": [],
   "source": [
    "numAssembler = VectorAssembler(inputCols=numColumns, outputCol=\"numFeatures\")\n",
    "numScaler = StandardScaler(inputCol=\"numFeatures\", outputCol=\"numScaled\", withMean=True, withStd=True)"
   ]
  },
  {
   "cell_type": "code",
   "execution_count": 36,
   "metadata": {
    "collapsed": true
   },
   "outputs": [],
   "source": [
    "catIndexer = [StringIndexer(inputCol=catColumn, outputCol=\"{0}_Indexed\".format(catColumn), handleInvalid=\"skip\") for catColumn in catColumns]\n",
    "catEncoder = [OneHotEncoder(inputCol=indexer.getOutputCol(), outputCol=\"{0}_Encoded\".format(indexer.getInputCol())) for indexer in catIndexer]\n",
    "catAssembler = VectorAssembler(inputCols=[encoder.getOutputCol() for encoder in catEncoder], outputCol=\"catFeatures\")"
   ]
  },
  {
   "cell_type": "code",
   "execution_count": 37,
   "metadata": {
    "collapsed": true
   },
   "outputs": [],
   "source": [
    "numCatAssembler = VectorAssembler(inputCols=['numScaled', 'catFeatures'], outputCol=\"features\")"
   ]
  },
  {
   "cell_type": "code",
   "execution_count": 38,
   "metadata": {
    "collapsed": true
   },
   "outputs": [],
   "source": [
    "preProcessingStages = [numAssembler] + [numScaler] + catIndexer + catEncoder + [catAssembler] + [numCatAssembler] "
   ]
  },
  {
   "cell_type": "markdown",
   "metadata": {},
   "source": [
    "## Model Building & Evaluation"
   ]
  },
  {
   "cell_type": "markdown",
   "metadata": {},
   "source": [
    "### Build Linear Regression Model"
   ]
  },
  {
   "cell_type": "code",
   "execution_count": 39,
   "metadata": {
    "collapsed": true
   },
   "outputs": [],
   "source": [
    "# Function to evaluation model\n",
    "evaluator = RegressionEvaluator(labelCol=labelColumn, predictionCol=\"prediction\") \n",
    "metricColumns = [\"Model\", \"Data\", \"R_Square\", \"RMSE\", \"MSE\"]\n",
    "modelMetrics = pd.DataFrame(columns=metricColumns)"
   ]
  },
  {
   "cell_type": "code",
   "execution_count": 40,
   "metadata": {
    "collapsed": true
   },
   "outputs": [],
   "source": [
    "def getModelMetrics(model, data, dataSetType, modelName, modelMetrics):\n",
    "    predsAndLabel = model.transform(data).select(\"prediction\", labelColumn)\n",
    "    r2 = evaluator.evaluate(predsAndLabel, {evaluator.metricName : \"r2\"})\n",
    "    rmse = evaluator.evaluate(predsAndLabel, {evaluator.metricName : \"rmse\"})\n",
    "    mse = evaluator.evaluate(predsAndLabel, {evaluator.metricName : \"mse\"})\n",
    "    tempDF = pd.DataFrame([[modelName, dataSetType, r2, rmse, mse]], columns=metricColumns)\n",
    "    modelMetrics = modelMetrics.append(tempDF)\n",
    "    return modelMetrics"
   ]
  },
  {
   "cell_type": "code",
   "execution_count": 41,
   "metadata": {
    "collapsed": true
   },
   "outputs": [],
   "source": [
    "lr = regression.LinearRegression(maxIter=10, labelCol=labelColumn, featuresCol=\"features\")\n",
    "lrPipeline = Pipeline(stages=preProcessingStages + [lr])\n",
    "lrPipelineModel = lrPipeline.fit(train_DF)"
   ]
  },
  {
   "cell_type": "code",
   "execution_count": 42,
   "metadata": {},
   "outputs": [
    {
     "name": "stdout",
     "output_type": "stream",
     "text": [
      "      Model   Data  R_Square        RMSE            MSE\n",
      "0  LR_Model  Train  0.186468  410.993799  168915.902635\n",
      "      Model   Data  R_Square        RMSE            MSE\n",
      "0  LR_Model  Train -0.401938  372.488507  138747.687981\n"
     ]
    }
   ],
   "source": [
    "print(getModelMetrics(lrPipelineModel, train_DF, \"Train\", \"LR_Model\", modelMetrics))\n",
    "print(getModelMetrics(lrPipelineModel, test_DF, \"Train\", \"LR_Model\", modelMetrics))"
   ]
  },
  {
   "cell_type": "markdown",
   "metadata": {},
   "source": [
    "### 16. Display the model summary."
   ]
  },
  {
   "cell_type": "code",
   "execution_count": 43,
   "metadata": {},
   "outputs": [
    {
     "data": {
      "text/plain": [
       "0.1864677745206953"
      ]
     },
     "execution_count": 43,
     "metadata": {},
     "output_type": "execute_result"
    }
   ],
   "source": [
    "lrModelSummary = lrPipelineModel.stages[-1].summary\n",
    "lrModelSummary.r2"
   ]
  },
  {
   "cell_type": "code",
   "execution_count": 44,
   "metadata": {},
   "outputs": [
    {
     "name": "stdout",
     "output_type": "stream",
     "text": [
      "objectiveHistory:\n",
      "0.5\n",
      "0.421569780567\n",
      "0.417363411713\n",
      "0.410537027443\n",
      "0.409700676214\n",
      "0.408030391178\n",
      "0.407609824535\n",
      "0.407361552439\n",
      "0.407158795379\n",
      "0.406861693104\n",
      "0.40676611274\n"
     ]
    }
   ],
   "source": [
    "objectiveHistory = lrModelSummary.objectiveHistory\n",
    "print(\"objectiveHistory:\")\n",
    "for objective in objectiveHistory:\n",
    "    print(objective)"
   ]
  },
  {
   "cell_type": "markdown",
   "metadata": {},
   "source": [
    "### Build Decision Tree regressor"
   ]
  },
  {
   "cell_type": "code",
   "execution_count": 45,
   "metadata": {
    "collapsed": true
   },
   "outputs": [],
   "source": [
    "dt = regression.DecisionTreeRegressor(maxDepth=6, labelCol=labelColumn,  featuresCol=\"features\")\n",
    "dtPipeline = Pipeline(stages=preProcessingStages + [dt])\n",
    "dtPipelineModel = dtPipeline.fit(train_DF)"
   ]
  },
  {
   "cell_type": "code",
   "execution_count": 46,
   "metadata": {},
   "outputs": [
    {
     "name": "stdout",
     "output_type": "stream",
     "text": [
      "      Model   Data  R_Square        RMSE            MSE\n",
      "0  DT_Model  Train  0.214941  403.737539  163004.000444\n",
      "      Model   Data  R_Square        RMSE            MSE\n",
      "0  DT_Model  Train -0.752854  416.506112  173477.341204\n"
     ]
    }
   ],
   "source": [
    "print(getModelMetrics(dtPipelineModel, train_DF, \"Train\", \"DT_Model\", modelMetrics))\n",
    "print(getModelMetrics(dtPipelineModel, test_DF, \"Train\", \"DT_Model\", modelMetrics))"
   ]
  },
  {
   "cell_type": "markdown",
   "metadata": {},
   "source": [
    "### Build Random Forest Regressor"
   ]
  },
  {
   "cell_type": "code",
   "execution_count": 47,
   "metadata": {
    "collapsed": true
   },
   "outputs": [],
   "source": [
    "rf = regression.RandomForestRegressor(numTrees=20, maxDepth=4, seed=42, labelCol=labelColumn, featuresCol=\"features\")\n",
    "rfPipeline = Pipeline(stages=preProcessingStages + [rf])\n",
    "rfPipelineModel = rfPipeline.fit(train_DF)"
   ]
  },
  {
   "cell_type": "code",
   "execution_count": 48,
   "metadata": {},
   "outputs": [
    {
     "name": "stdout",
     "output_type": "stream",
     "text": [
      "      Model   Data  R_Square        RMSE            MSE\n",
      "0  RF_Model  Train  0.136878  423.334916  179212.451185\n",
      "      Model   Data  R_Square        RMSE            MSE\n",
      "0  RF_Model  Train -0.086342  327.892698  107513.621243\n"
     ]
    }
   ],
   "source": [
    "print(getModelMetrics(rfPipelineModel, train_DF, \"Train\", \"RF_Model\", modelMetrics))\n",
    "print(getModelMetrics(rfPipelineModel, test_DF, \"Train\", \"RF_Model\", modelMetrics))"
   ]
  },
  {
   "cell_type": "markdown",
   "metadata": {},
   "source": [
    "### 18. Apply Cross validation technique and tune your models."
   ]
  },
  {
   "cell_type": "markdown",
   "metadata": {},
   "source": [
    "### Tuning LR Model"
   ]
  },
  {
   "cell_type": "code",
   "execution_count": 50,
   "metadata": {
    "collapsed": true
   },
   "outputs": [],
   "source": [
    "lrPrameterGrid = ParamGridBuilder().addGrid(lr.regParam, [0.1,0.2])\\\n",
    "              .addGrid(lr.elasticNetParam, [0.2, 0.5])\\\n",
    "              .addGrid(lr.maxIter, [10, 15])\\\n",
    "              .build()\n",
    "lrCrossVal = CrossValidator(estimator=lrPipeline,\n",
    "                           estimatorParamMaps=lrPrameterGrid,\n",
    "                           evaluator=evaluator,\n",
    "                           numFolds=2,\n",
    "                           parallelism=3)\n",
    "lrCrossValModel = lrCrossVal.fit(train_DF)"
   ]
  },
  {
   "cell_type": "code",
   "execution_count": 52,
   "metadata": {},
   "outputs": [
    {
     "name": "stdout",
     "output_type": "stream",
     "text": [
      "      Model   Data  R_Square        RMSE           MSE\n",
      "0  LR_TUNED  Train  0.186397  411.011655  168930.58062\n",
      "      Model   Data  R_Square        RMSE            MSE\n",
      "0  LR_TUNED  Train -0.384619  370.180605  137033.680393\n"
     ]
    }
   ],
   "source": [
    "print(getModelMetrics(lrCrossValModel.bestModel, train_DF, \"Train\", \"LR_TUNED\", modelMetrics))\n",
    "print(getModelMetrics(lrCrossValModel.bestModel, test_DF, \"Train\", \"LR_TUNED\", modelMetrics))"
   ]
  },
  {
   "cell_type": "code",
   "execution_count": 55,
   "metadata": {},
   "outputs": [
    {
     "name": "stdout",
     "output_type": "stream",
     "text": [
      "0.186397082459\n"
     ]
    }
   ],
   "source": [
    "print(lrCrossValModel.bestModel.stages[-1].summary.r2)"
   ]
  },
  {
   "cell_type": "markdown",
   "metadata": {},
   "source": [
    "### Tuning DT Model"
   ]
  },
  {
   "cell_type": "code",
   "execution_count": 56,
   "metadata": {
    "collapsed": true
   },
   "outputs": [],
   "source": [
    "paramGridDT = ParamGridBuilder().addGrid(dt.maxDepth, [4, 6, 8]).build()\n",
    "dtCrossVal = CrossValidator(estimator=dtPipeline,\n",
    "                            estimatorParamMaps=paramGridDT,\n",
    "                            evaluator=evaluator,\n",
    "                            numFolds=2,\n",
    "                            parallelism=10) \n",
    "dtCrossValModel = dtCrossVal.fit(train_DF)"
   ]
  },
  {
   "cell_type": "markdown",
   "metadata": {},
   "source": [
    "### 19. Compute both train and test error metrics for all the models.\n",
    "### 20. Calculate Root Mean Squared Error (RMSE) and R-Square values.\n"
   ]
  },
  {
   "cell_type": "code",
   "execution_count": 57,
   "metadata": {},
   "outputs": [
    {
     "name": "stdout",
     "output_type": "stream",
     "text": [
      "        Model   Data  R_Square        RMSE            MSE\n",
      "0  DT_CV_Best  Train  0.135341  423.711517  179531.449683\n",
      "        Model  Data  R_Square        RMSE            MSE\n",
      "0  DT_CV_Best  Test -0.403867  372.744737  138938.638834\n"
     ]
    }
   ],
   "source": [
    "print(getModelMetrics(dtCrossValModel.bestModel, train_DF, \"Train\", \"DT_CV_Best\", modelMetrics))\n",
    "print(getModelMetrics(dtCrossValModel.bestModel, test_DF, \"Test\", \"DT_CV_Best\", modelMetrics))"
   ]
  },
  {
   "cell_type": "code",
   "execution_count": null,
   "metadata": {
    "collapsed": true
   },
   "outputs": [],
   "source": []
  }
 ],
 "metadata": {
  "kernelspec": {
   "display_name": "Python 3",
   "language": "python",
   "name": "python3"
  },
  "language_info": {
   "codemirror_mode": {
    "name": "ipython",
    "version": 3
   },
   "file_extension": ".py",
   "mimetype": "text/x-python",
   "name": "python",
   "nbconvert_exporter": "python",
   "pygments_lexer": "ipython3",
   "version": "3.6.3"
  }
 },
 "nbformat": 4,
 "nbformat_minor": 2
}
